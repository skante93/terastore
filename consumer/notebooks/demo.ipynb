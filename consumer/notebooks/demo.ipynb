{
 "cells": [
  {
   "cell_type": "markdown",
   "id": "committed-clearance",
   "metadata": {},
   "source": [
    "# TeraStore\n",
    "\n",
    "**TeraStore** is the IDS implementation by teralab of an AppStore based on the TeraLab Marketplace. This notebook will cover in length the features and implementation of the TerStore.\n"
   ]
  },
  {
   "cell_type": "markdown",
   "id": "swedish-holly",
   "metadata": {},
   "source": [
    "## How it came to be\n",
    "\n",
    "**TeraStore** is mostly inspired by the EUH4D implementation that is, itself based on Dataspace Connector implementation, the most well-documented connector implementation available as of today (as far as we know).\n",
    "By combining the DataSpace Connector implementation with the documentation found on JIVE (in particular the IDS communication guide and the IDS handshake documents), we created the TeraStore, an *incomplete* AppStore implementation attempt with the following features :\n",
    "\n",
    "* combines Apps from two different sources:\n",
    "  * Trusted Network Apps: as the name suggests these are Apps created and managed by IDS connectors from the inside the trusted network.\n",
    "  * TeraLab Marketplace Apps: are Apps originally on the TeraLab marketplace that the AppStore fetches and add to the Catalog and by doing so declares itself as author for them. This works since an AppStore can be viewed as a particular connector.\n",
    "* ~~provides a GUI allowing to browse through the catalog~~\n",
    "* provides an infrastructure endpoint supporting the following mesages: \n",
    "  * DescriptionRequestMessage : to request the self-description JSON-LD of the AppStore\n",
    "  * AppRegistrationRequestMessage : to create an App using metadata\n",
    "  * AppUploadingMessage: to upload App deployment Spec (keep reading to understand what this refers to)\n",
    "  * QueryMessage: fetches the catalog\n",
    "  * RequestArtifactMessage : fetches the actuall App deployment spec \n",
    "<!--* provides an OpenAPI access to get familiar with the way things work.-->\n",
    "\n",
    "Note: A more complete list is available [here](http://htmlpreview.github.io/?https://github.com/IndustrialDataSpace/InformationModel/blob/feature/message_taxonomy_description/model/communication/Message_Description.htm)\n",
    "\n",
    "The following features are not yet available but are planned in the road map: \n",
    "\n",
    "* support for SPARQL \n",
    "* support for other IDS messages (such as notification messages)\n"
   ]
  },
  {
   "cell_type": "markdown",
   "id": "simple-bangkok",
   "metadata": {},
   "source": [
    "## What is an App ?\n",
    "\n",
    "Based on the concept of a TeraLab Marketplace App, we decided that an App is essentially a docker specification. It has two groups of information : 1) the metadata, helping with defining and classifying Apps and 2) the deployment, containing necessary information to deploy a docker container in a configurable way (it allows providing volumes and specifying environment variables). Both the metadata and deployment are JSON document with particular formatting that we are going detail now.\n",
    "\n",
    "The Metadata has the following fields :\n",
    "* __name__: the name of the App, mandatory.\n",
    "* __introduction__: a less than 200 characters string introducing the App, optional.\n",
    "* __description__: a long (no limit on the number of characters), HTML-formatted (graphical) string describing fully the App. This field can be viewed as the Apps user manual. This field s optional.\n",
    "* __keywords__: Tags associated to the App, optional.\n",
    "\n",
    "The deployment has the following fields :\n",
    "* __image__: docker image to pull / use when creating the container, mandatory.\n",
    "* __ports__: an array of portObjects describing the ports to pay attention to, optional. This is how a JSON portObject is structured :\n",
    "  * __name__: usually the Application level protocol used (ex: http), mandatory\n",
    "  * __containerPort__: the target port (ex: 80), mandatory\n",
    "* __settings__: an array of JSON settingsObjects describing the environment variables to specify. This is how a JSON settingsObject is structured :\n",
    "  * __name__: name of the env variable, mandatory.\n",
    "  * __type__: expected type (string, number, date, url, ...), optional, default is string.\n",
    "  * __required__: specifies if the env variable is mandatory for the container to run successfully, optional, default is false \n",
    "* __volumes__: an array of JSON volumeObjects describing docker volumes expected, optional. This can allow the same container with an algorithm as main process for example to work on different data simply by providing a different volume (containing a different dataset but in the expected format, e.g. CSV files). This is how a JSON volumeObject is structured:\n",
    "  * __name__: name of the volume (usually what kind of data expected there), mandatory.\n",
    "  * __mountPoint__: where the specified volume should be mounted, mandatory.\n",
    "\n",
    "The following figure shows how a typical can App deployment specification can translate into a docker deployment when provided with the right context (settings and volumes) :\n",
    "\n",
    "![Alt text](images/app_deploy_spec.PNG)\n",
    " "
   ]
  },
  {
   "cell_type": "markdown",
   "id": "nuclear-hurricane",
   "metadata": {},
   "source": [
    "## Architecture\n",
    "\n",
    "This is the architecture of AppStore as well as a typical exchange : \n",
    "\n",
    "![Alt text](images/archi.PNG)\n",
    "\n"
   ]
  },
  {
   "cell_type": "markdown",
   "id": "daily-transportation",
   "metadata": {},
   "source": [
    "\n",
    "## Demo\n",
    "\n",
    "The demo involves : \n",
    "* a DAPS : the one used belongs to SQS, contact [toto](mailto:) for more information\n",
    "* a DataBase: to record Apps Metadata and Artifacts \n",
    "* the TeraLab Marketplace: to where to retrieve addiionnal Apps \n",
    "* the notebook : we are currently, will simulate two connectors, namely an App provider and an AppConsumer.\n",
    "\n",
    "The scenario is the follwing :\n",
    "\n",
    "* Creation of two participants and a matching connector identities on the DAPS.\n",
    "  * Ask for the maintainers of the DAPS to create participants and connector identities.\n",
    "  * Edit the [provider](specs/provider.json) and the [consumer](specs/consumer.json) files containing a self description for each of the simulated connectors of the demo\n",
    "  * Open up the [idsComm.py](./idsComm.py) and replace the \"PROVIDER_DAT\" and \"CONSUMER_DAT\" by the right DAT provided by the DAPS. \n",
    "\n",
    "* Adapt the configuration of the TeraStore\n",
    "  * open the appstore/settings/settings.yaml file and replace the parameters with your own\n",
    "  * clean up the current context by typing:\n",
    "    * <pre><code>docker-compose down --remove-orphans --volumes</code></pre>\n",
    "  * start the server using:\n",
    "    * <pre><code>docker-compose up</code></pre>\n",
    "\n",
    "* Through the infrastructure endpoint (find logs of last exchanges in the \"logs\" folder)\n",
    "  * Get the self-description of the AppStore \n",
    "  * Get the Catalog (collection of metadata)\n",
    "  * Get an Actual Apps as an artifact (deployment spec) \n",
    "  * Create a new App\n",
    "  * Check that the new App appears in the Catalog\n",
    "\n",
    "**/!\\ THe first and second points are very manual, as such they cannot be automated in the notebook, but do not neglect them if you wish to adapt TeraStore to your own needs. Therefore only the third point shall be covered in this notebook.**\n",
    "\n",
    "Before we get down to business, let us first setup the environment correctly.\n"
   ]
  },
  {
   "cell_type": "code",
   "execution_count": 1,
   "id": "interesting-recruitment",
   "metadata": {},
   "outputs": [
    {
     "name": "stdout",
     "output_type": "stream",
     "text": [
      "Requirement already satisfied: requests-toolbelt in /usr/local/lib/python3.8/dist-packages (0.9.1)\n",
      "Requirement already satisfied: requests<3.0.0,>=2.0.1 in /usr/local/lib/python3.8/dist-packages (from requests-toolbelt) (2.25.1)\n",
      "Requirement already satisfied: urllib3<1.27,>=1.21.1 in /usr/local/lib/python3.8/dist-packages (from requests<3.0.0,>=2.0.1->requests-toolbelt) (1.26.2)\n",
      "Requirement already satisfied: chardet<5,>=3.0.2 in /usr/local/lib/python3.8/dist-packages (from requests<3.0.0,>=2.0.1->requests-toolbelt) (4.0.0)\n",
      "Requirement already satisfied: idna<3,>=2.5 in /usr/local/lib/python3.8/dist-packages (from requests<3.0.0,>=2.0.1->requests-toolbelt) (2.10)\n",
      "Requirement already satisfied: certifi>=2017.4.17 in /usr/local/lib/python3.8/dist-packages (from requests<3.0.0,>=2.0.1->requests-toolbelt) (2020.12.5)\n"
     ]
    }
   ],
   "source": [
    "!pip3 install requests-toolbelt\n",
    "\n",
    "from idsComm import getSelfDescription, getCatalog, createApp, artifactRequestMessage\n",
    "import json\n",
    "\n",
    "# Check the logs fold to read the transactions.\n",
    "LOG_EXCHANGES = True"
   ]
  },
  {
   "cell_type": "markdown",
   "id": "fundamental-safety",
   "metadata": {},
   "source": [
    "### Self description\n",
    "\n",
    "The next cell explains how to get the self description :"
   ]
  },
  {
   "cell_type": "code",
   "execution_count": 2,
   "id": "adapted-wednesday",
   "metadata": {},
   "outputs": [
    {
     "name": "stdout",
     "output_type": "stream",
     "text": [
      "{\n",
      "    \"@context\": \"http://w3id.org/idsa/contexts/context.json\",\n",
      "    \"@id\": \"https://terastore.tl.teralab-datascience.fr\",\n",
      "    \"ids:correlationMessage\": \"https://terastore.tl.teralab-datascience.fr\",\n",
      "    \"@type\": \"ids:AppStore\",\n",
      "    \"ids:description\": {\n",
      "        \"@value\": \"An implementation effort by TeraLab\",\n",
      "        \"@language\": \"en\"\n",
      "    },\n",
      "    \"ids:curator\": \"https://www.teralab-datascience.fr\",\n",
      "    \"ids:maintainer\": \"https://www.teralab-datascience.fr\",\n",
      "    \"ids:inboundModelVersion\": [\n",
      "        \"4.0.0\"\n",
      "    ],\n",
      "    \"ids:outboundModelVersion\": \"4.0.0\",\n",
      "    \"ids:title\": {\n",
      "        \"@value\": \"TeraStore\",\n",
      "        \"@language\": \"en\"\n",
      "    },\n",
      "    \"ldp:contains\": {\n",
      "        \"@id\": \"Catalog\"\n",
      "    },\n",
      "    \"ids:catalog\": {\n",
      "        \"@id\": \"https://terastore.tl.teralab-datascience.fr/catalog\",\n",
      "        \"@type\": [\n",
      "            \"ids:Catalog\",\n",
      "            \"ldp:BasicContainer\"\n",
      "        ],\n",
      "        \"ids:offer\": [\n",
      "            {\n",
      "                \"@id\": \"https://terastore.tl.teralab-datascience.fr/apps/5fb633ea4f5aa7013ddae944\",\n",
      "                \"@type\": [\n",
      "                    \"ids:AppResource\"\n",
      "                ],\n",
      "                \"ids:description\": \"Test full description\",\n",
      "                \"ids:title\": \"algorun\",\n",
      "                \"ids:comment\": \"A simple SKLEARN \\\"box\\\" ready to run your python codes.\",\n",
      "                \"ids:keywords\": [\n",
      "                    \"from:marketplace\"\n",
      "                ],\n",
      "                \"ids:artifact\": [\n",
      "                    {\n",
      "                        \"@id\": \"https://terastore.tl.teralab-datascience.fr/apps/5fb633ea4f5aa7013ddae944\"\n",
      "                    }\n",
      "                ]\n",
      "            },\n",
      "            {\n",
      "                \"@id\": \"https://terastore.tl.teralab-datascience.fr/apps/6021209f68a66200295c871e\",\n",
      "                \"@type\": [\n",
      "                    \"ids:AppResource\"\n",
      "                ],\n",
      "                \"ids:description\": \"<p>Full description&nbsp;</p>\",\n",
      "                \"ids:title\": \"newApp\",\n",
      "                \"ids:comment\": \"introduction to my new app\",\n",
      "                \"ids:keywords\": [\n",
      "                    \"from:marketplace\"\n",
      "                ],\n",
      "                \"ids:artifact\": [\n",
      "                    {\n",
      "                        \"@id\": \"https://terastore.tl.teralab-datascience.fr/apps/6021209f68a66200295c871e\"\n",
      "                    }\n",
      "                ]\n",
      "            },\n",
      "            {\n",
      "                \"@id\": \"https://terastore.tl.teralab-datascience.fr/apps/60379368d55cff049773e7fe\",\n",
      "                \"@type\": [\n",
      "                    \"ids:AppResource\"\n",
      "                ],\n",
      "                \"ids:description\": \"<p>A long, <b>HTML</b> formatted description explaining how to use the App (like a user manual).</p>\",\n",
      "                \"ids:title\": \"Echo test\",\n",
      "                \"ids:comment\": \"Short text introducing my nginx App\",\n",
      "                \"ids:keywords\": [\n",
      "                    \"test\",\n",
      "                    \"http-echo\",\n",
      "                    \"web server\"\n",
      "                ],\n",
      "                \"ids:artifact\": [\n",
      "                    {\n",
      "                        \"@id\": \"https://terastore.tl.teralab-datascience.fr/apps/60379368d55cff049773e7fe\"\n",
      "                    }\n",
      "                ]\n",
      "            }\n",
      "        ]\n",
      "    }\n",
      "}\n"
     ]
    }
   ],
   "source": [
    "\n",
    "# Operation done by the consumer connector\n",
    "header, payload = getSelfDescription(\"consumer\", LOG_EXCHANGES)\n",
    "\n",
    "print(json.dumps(payload, indent=4))"
   ]
  },
  {
   "cell_type": "markdown",
   "id": "spectacular-antigua",
   "metadata": {},
   "source": [
    "\n",
    "### Catalog\n",
    "\n",
    "The next cell explains how to get the Catalog :"
   ]
  },
  {
   "cell_type": "code",
   "execution_count": 3,
   "id": "second-footwear",
   "metadata": {},
   "outputs": [
    {
     "name": "stdout",
     "output_type": "stream",
     "text": [
      "[\n",
      "    {\n",
      "        \"@id\": \"https://terastore.tl.teralab-datascience.fr/apps/5fb633ea4f5aa7013ddae944\",\n",
      "        \"@type\": [\n",
      "            \"ids:AppResource\"\n",
      "        ],\n",
      "        \"ids:description\": \"Test full description\",\n",
      "        \"ids:title\": \"algorun\",\n",
      "        \"ids:comment\": \"A simple SKLEARN \\\"box\\\" ready to run your python codes.\",\n",
      "        \"ids:keywords\": [\n",
      "            \"from:marketplace\"\n",
      "        ],\n",
      "        \"ids:artifact\": [\n",
      "            {\n",
      "                \"@id\": \"https://terastore.tl.teralab-datascience.fr/apps/5fb633ea4f5aa7013ddae944\"\n",
      "            }\n",
      "        ]\n",
      "    },\n",
      "    {\n",
      "        \"@id\": \"https://terastore.tl.teralab-datascience.fr/apps/6021209f68a66200295c871e\",\n",
      "        \"@type\": [\n",
      "            \"ids:AppResource\"\n",
      "        ],\n",
      "        \"ids:description\": \"<p>Full description&nbsp;</p>\",\n",
      "        \"ids:title\": \"newApp\",\n",
      "        \"ids:comment\": \"introduction to my new app\",\n",
      "        \"ids:keywords\": [\n",
      "            \"from:marketplace\"\n",
      "        ],\n",
      "        \"ids:artifact\": [\n",
      "            {\n",
      "                \"@id\": \"https://terastore.tl.teralab-datascience.fr/apps/6021209f68a66200295c871e\"\n",
      "            }\n",
      "        ]\n",
      "    },\n",
      "    {\n",
      "        \"@id\": \"https://terastore.tl.teralab-datascience.fr/apps/60379368d55cff049773e7fe\",\n",
      "        \"@type\": [\n",
      "            \"ids:AppResource\"\n",
      "        ],\n",
      "        \"ids:description\": \"<p>A long, <b>HTML</b> formatted description explaining how to use the App (like a user manual).</p>\",\n",
      "        \"ids:title\": \"Echo test\",\n",
      "        \"ids:comment\": \"Short text introducing my nginx App\",\n",
      "        \"ids:keywords\": [\n",
      "            \"test\",\n",
      "            \"http-echo\",\n",
      "            \"web server\"\n",
      "        ],\n",
      "        \"ids:artifact\": [\n",
      "            {\n",
      "                \"@id\": \"https://terastore.tl.teralab-datascience.fr/apps/60379368d55cff049773e7fe\"\n",
      "            }\n",
      "        ]\n",
      "    }\n",
      "]\n"
     ]
    }
   ],
   "source": [
    "\n",
    "# Operation done by the consumer connector\n",
    "header, payload = getCatalog(\"consumer\", LOG_EXCHANGES)\n",
    "\n",
    "print(json.dumps(payload, indent=4))"
   ]
  },
  {
   "cell_type": "markdown",
   "id": "french-sailing",
   "metadata": {},
   "source": [
    "**/!\\ You can differentiate Apps coming from the TeraLab Marketplace from the \"Trusted Network Apps\" byt the \"from:marketplace\" keyword. The apps having this keyword are most probably (not certainly since anyone can affect any keyword to their resources) from the TeraLab Marketplace.**\n",
    "\n",
    "### Requesting Artifact \n",
    "\n",
    "The next cell explains how to get the Artifact for an App (deployment spec) :"
   ]
  },
  {
   "cell_type": "code",
   "execution_count": 4,
   "id": "acute-taylor",
   "metadata": {},
   "outputs": [
    {
     "name": "stdout",
     "output_type": "stream",
     "text": [
      "{\n",
      "    \"image\": \"algofab2018/algorun\",\n",
      "    \"ports\": [\n",
      "        {\n",
      "            \"_id\": \"60379231d55cff049773e7df\",\n",
      "            \"name\": \"http\"\n",
      "        }\n",
      "    ],\n",
      "    \"settings\": [],\n",
      "    \"volumes\": [\n",
      "        {\n",
      "            \"_id\": \"60379231d55cff049773e7e0\",\n",
      "            \"name\": \"my-volume\"\n",
      "        }\n",
      "    ]\n",
      "}\n"
     ]
    }
   ],
   "source": [
    "header, payload = artifactRequestMessage(\"https://terastore.tl.teralab-datascience.fr/apps/5fb633ea4f5aa7013ddae944\", LOG_EXCHANGES)\n",
    "\n",
    "print(json.dumps(payload, indent=4))"
   ]
  },
  {
   "cell_type": "markdown",
   "id": "honey-floor",
   "metadata": {},
   "source": [
    "### Creating App\n",
    "\n",
    "\n",
    "Now let us create an App"
   ]
  },
  {
   "cell_type": "code",
   "execution_count": 5,
   "id": "breeding-tanzania",
   "metadata": {},
   "outputs": [],
   "source": [
    "\n",
    "# Operation done by the provider connector\n",
    "\n",
    "app = {\n",
    "    \"metadata\": {\n",
    "        \"name\": \"Example nginx\",\n",
    "        \"keywords\": [\n",
    "            \"nginx\", \"proxy\"\n",
    "        ],\n",
    "        \"introduction\": \"Simple App\",\n",
    "        \"description\": \"<p>TeraStore example App.</p>\"\n",
    "    },\n",
    "    \"spec\": {\n",
    "        \"image\": \"nginx\",\n",
    "        \"ports\": [\n",
    "            {\n",
    "                \"name\": \"http\",\n",
    "                \"port\": 80\n",
    "            }\n",
    "        ]\n",
    "    }\n",
    "}\n",
    "\n",
    "c_header, c_payload, u_header, u_payload = createApp(app, LOG_EXCHANGES)"
   ]
  },
  {
   "cell_type": "markdown",
   "id": "dangerous-trust",
   "metadata": {},
   "source": [
    "**After creating the App, this was the result**"
   ]
  },
  {
   "cell_type": "code",
   "execution_count": 6,
   "id": "changed-installation",
   "metadata": {},
   "outputs": [
    {
     "name": "stdout",
     "output_type": "stream",
     "text": [
      "{\n",
      "    \"@id\": \"https://terastore.tl.teralab-datascience.fr/apps/6037944de6335404a22e5bb4\",\n",
      "    \"@type\": [\n",
      "        \"ids:AppResource\"\n",
      "    ],\n",
      "    \"ids:description\": \"<p>TeraStore example App.</p>\",\n",
      "    \"ids:title\": \"Example nginx\",\n",
      "    \"ids:comment\": \"Simple App\",\n",
      "    \"ids:keyword\": [\n",
      "        \"nginx\",\n",
      "        \"proxy\"\n",
      "    ],\n",
      "    \"ids:artifact\": [\n",
      "        {\n",
      "            \"@id\": \"https://terastore.tl.teralab-datascience.fr/apps/6037944de6335404a22e5bb4\"\n",
      "        }\n",
      "    ]\n",
      "}\n"
     ]
    }
   ],
   "source": [
    "print(json.dumps(c_payload, indent=4))"
   ]
  },
  {
   "cell_type": "markdown",
   "id": "married-demonstration",
   "metadata": {},
   "source": [
    "**After uploading deployment spec, this was the result**"
   ]
  },
  {
   "cell_type": "code",
   "execution_count": 7,
   "id": "known-index",
   "metadata": {},
   "outputs": [
    {
     "name": "stdout",
     "output_type": "stream",
     "text": [
      "{\n",
      "    \"ports\": [\n",
      "        {\n",
      "            \"_id\": \"6037944ee6335404a22e5bb6\",\n",
      "            \"name\": \"http\",\n",
      "            \"port\": 80\n",
      "        }\n",
      "    ],\n",
      "    \"settings\": [],\n",
      "    \"volumes\": [],\n",
      "    \"image\": \"nginx\"\n",
      "}\n"
     ]
    }
   ],
   "source": [
    "print(json.dumps(u_payload, indent=4))"
   ]
  },
  {
   "cell_type": "markdown",
   "id": "previous-flood",
   "metadata": {},
   "source": [
    "\n",
    "### Checking the Catalog again\n",
    "\n",
    "\n",
    "Finally, let us fetch the catalog and see if the App was created as expected (should be the last item on the catalog)."
   ]
  },
  {
   "cell_type": "code",
   "execution_count": 8,
   "id": "simplified-strength",
   "metadata": {},
   "outputs": [
    {
     "name": "stdout",
     "output_type": "stream",
     "text": [
      "[\n",
      "    {\n",
      "        \"@id\": \"https://terastore.tl.teralab-datascience.fr/apps/5fb633ea4f5aa7013ddae944\",\n",
      "        \"@type\": [\n",
      "            \"ids:AppResource\"\n",
      "        ],\n",
      "        \"ids:description\": \"Test full description\",\n",
      "        \"ids:title\": \"algorun\",\n",
      "        \"ids:comment\": \"A simple SKLEARN \\\"box\\\" ready to run your python codes.\",\n",
      "        \"ids:keywords\": [\n",
      "            \"from:marketplace\"\n",
      "        ],\n",
      "        \"ids:artifact\": [\n",
      "            {\n",
      "                \"@id\": \"https://terastore.tl.teralab-datascience.fr/apps/5fb633ea4f5aa7013ddae944\"\n",
      "            }\n",
      "        ]\n",
      "    },\n",
      "    {\n",
      "        \"@id\": \"https://terastore.tl.teralab-datascience.fr/apps/6021209f68a66200295c871e\",\n",
      "        \"@type\": [\n",
      "            \"ids:AppResource\"\n",
      "        ],\n",
      "        \"ids:description\": \"<p>Full description&nbsp;</p>\",\n",
      "        \"ids:title\": \"newApp\",\n",
      "        \"ids:comment\": \"introduction to my new app\",\n",
      "        \"ids:keywords\": [\n",
      "            \"from:marketplace\"\n",
      "        ],\n",
      "        \"ids:artifact\": [\n",
      "            {\n",
      "                \"@id\": \"https://terastore.tl.teralab-datascience.fr/apps/6021209f68a66200295c871e\"\n",
      "            }\n",
      "        ]\n",
      "    },\n",
      "    {\n",
      "        \"@id\": \"https://terastore.tl.teralab-datascience.fr/apps/60379368d55cff049773e7fe\",\n",
      "        \"@type\": [\n",
      "            \"ids:AppResource\"\n",
      "        ],\n",
      "        \"ids:description\": \"<p>A long, <b>HTML</b> formatted description explaining how to use the App (like a user manual).</p>\",\n",
      "        \"ids:title\": \"Echo test\",\n",
      "        \"ids:comment\": \"Short text introducing my nginx App\",\n",
      "        \"ids:keywords\": [\n",
      "            \"test\",\n",
      "            \"http-echo\",\n",
      "            \"web server\"\n",
      "        ],\n",
      "        \"ids:artifact\": [\n",
      "            {\n",
      "                \"@id\": \"https://terastore.tl.teralab-datascience.fr/apps/60379368d55cff049773e7fe\"\n",
      "            }\n",
      "        ]\n",
      "    },\n",
      "    {\n",
      "        \"@id\": \"https://terastore.tl.teralab-datascience.fr/apps/6037944de6335404a22e5bb4\",\n",
      "        \"@type\": [\n",
      "            \"ids:AppResource\"\n",
      "        ],\n",
      "        \"ids:description\": \"<p>TeraStore example App.</p>\",\n",
      "        \"ids:title\": \"Example nginx\",\n",
      "        \"ids:comment\": \"Simple App\",\n",
      "        \"ids:keywords\": [\n",
      "            \"nginx\",\n",
      "            \"proxy\"\n",
      "        ],\n",
      "        \"ids:artifact\": [\n",
      "            {\n",
      "                \"@id\": \"https://terastore.tl.teralab-datascience.fr/apps/6037944de6335404a22e5bb4\"\n",
      "            }\n",
      "        ]\n",
      "    }\n",
      "]\n"
     ]
    }
   ],
   "source": [
    "# Operation done by the consumer connector\n",
    "header, payload = getCatalog(\"consumer\", LOG_EXCHANGES)\n",
    "\n",
    "print(json.dumps(payload, indent=4))"
   ]
  },
  {
   "cell_type": "code",
   "execution_count": null,
   "id": "inner-habitat",
   "metadata": {},
   "outputs": [],
   "source": []
  }
 ],
 "metadata": {
  "kernelspec": {
   "display_name": "Python 3",
   "language": "python",
   "name": "python3"
  },
  "language_info": {
   "codemirror_mode": {
    "name": "ipython",
    "version": 3
   },
   "file_extension": ".py",
   "mimetype": "text/x-python",
   "name": "python",
   "nbconvert_exporter": "python",
   "pygments_lexer": "ipython3",
   "version": "3.8.5"
  }
 },
 "nbformat": 4,
 "nbformat_minor": 5
}
